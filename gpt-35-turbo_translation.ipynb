{
 "cells": [
  {
   "attachments": {},
   "cell_type": "markdown",
   "metadata": {},
   "source": [
    "## JUPYTER NOTEBOOK FOR THE GPT-3.5-TURBO (OPENAI CHATGPT API) SENTENCES TRANSLATIONS OF THE DCEP DE-EN CORPUS"
   ]
  },
  {
   "cell_type": "code",
   "execution_count": null,
   "metadata": {},
   "outputs": [],
   "source": [
    "import openai\n",
    "import time\n",
    "\n",
    "load_dotenv()  # take environment variables from .env. (GPT API KEY)\n",
    "oai_api_key = os.getenv(\"OPENAI_API_KEY\")  \n",
    "\n",
    "openai.api_key = oai_api_key   \n",
    "\n",
    "# Translate and write to output file\n",
    "translated_lines = []\n",
    "\n",
    "# Read input file\n",
    "with open('DE-EN-alligned.txt', 'r', encoding='utf-8') as file:\n",
    "    lines = file.readlines()\n",
    "\n",
    "for line in lines:\n",
    "    string_1, string_2 = line.strip().split('\\t')\n",
    "\n",
    "    try:\n",
    "        # GPT-3.5-TURBO TRANSLATION \n",
    "        response = openai.ChatCompletion.create(\n",
    "            model=\"gpt-3.5-turbo\",\n",
    "            messages=[\n",
    "                {\n",
    "                    \"role\": \"system\",\n",
    "                    \"content\": \"You are a helpful translator from German to English. You will receive prompts from the users and your whole task is to take that German prompt and translate it into English. Your output will just be the translated prompt. Note that if you encounter any type of codes/reference numbers/dates such as 'PE 294.241', you can leave them like that. \"\n",
    "                },   # This first system prompt will determine the outcomes of the model\n",
    "                {\n",
    "                    \"role\": \"user\",\n",
    "                    \"content\": string_1\n",
    "                }\n",
    "            ],\n",
    "            temperature=0.2,  # Low temperature for a translation task makes sense\n",
    "            max_tokens=500,\n",
    "            request_timeout=2,\n",
    "        )\n",
    "\n",
    "        translated_string = response.choices[0].message.content\n",
    "\n",
    "        # translated string is the string_1 translation\n",
    "        translated_lines.append(translated_string + '\\t' + string_2)\n",
    "        print(\"Translation number\", i, \"\\n\", translated_string + ' -- ' + string_2)\n",
    "\n",
    "    except Exception as e:\n",
    "        # Handle other exceptions\n",
    "        print(f\"Error occurred during translation for line {i}: {e}\")\n",
    "        translated_lines.append('API_ERROR')\n",
    "        # Add a delay between API requests (optional)\n",
    "        time.sleep(2)  # Adjust the delay as needed\n",
    "\n",
    "    except openai.error.APIError as e:\n",
    "        # Handle the OpenAI API error\n",
    "        print(f\"APIError occurred during translation for line {i}: {e}\")\n",
    "        translated_lines.append('API_ERROR')\n",
    "        # Add a delay between API requests (optional)\n",
    "        time.sleep(2)  # Adjust the delay as needed\n",
    "\n",
    "    except TimeoutError:\n",
    "        # Handle the timeout error\n",
    "        print(f\"TimeoutError occurred for line {i}. Skipping the line.\")\n",
    "        translated_lines.append('TIMEOUT')\n",
    "        # Add a delay between API requests (optional)\n",
    "        time.sleep(2)  # Adjust the delay as needed\n",
    "\n",
    "\n",
    "\n",
    "    i += 1\n",
    "\n",
    "# Save translated output to a file\n",
    "output_file_path = 'DE-EN-pred-groundtruth_gpt35turbo_full.txt'\n",
    "with open(output_file_path, 'w', encoding='utf-8') as file:\n",
    "    file.write('\\n'.join(translated_lines))\n",
    "\n",
    "print(\"Translation completed.\")\n"
   ]
  },
  {
   "cell_type": "code",
   "execution_count": 7,
   "metadata": {},
   "outputs": [
    {
     "name": "stdout",
     "output_type": "stream",
     "text": [
      "Translation completed.\n"
     ]
    }
   ],
   "source": [
    "# Save translated output to a file\n",
    "output_file_path = 'DE-EN-pred-groundtruth_gpt35turbo_full.txt'\n",
    "with open(output_file_path, 'w', encoding='utf-8') as file:\n",
    "    file.write('\\n'.join(translated_lines))\n",
    "\n",
    "print(\"Translation completed.\")"
   ]
  }
 ],
 "metadata": {
  "kernelspec": {
   "display_name": ".venv",
   "language": "python",
   "name": "python3"
  },
  "language_info": {
   "codemirror_mode": {
    "name": "ipython",
    "version": 3
   },
   "file_extension": ".py",
   "mimetype": "text/x-python",
   "name": "python",
   "nbconvert_exporter": "python",
   "pygments_lexer": "ipython3",
   "version": "3.11.3"
  },
  "orig_nbformat": 4
 },
 "nbformat": 4,
 "nbformat_minor": 2
}
