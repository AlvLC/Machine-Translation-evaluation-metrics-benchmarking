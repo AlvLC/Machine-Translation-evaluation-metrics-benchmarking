{
 "cells": [
  {
   "cell_type": "code",
   "execution_count": 0,
   "metadata": {
    "application/vnd.databricks.v1+cell": {
     "cellMetadata": {
      "byteLimit": 2048000,
      "rowLimit": 10000
     },
     "inputWidgets": {},
     "nuid": "e1408747-6a8b-401d-96ad-3a9614529ec7",
     "showTitle": false,
     "title": ""
    }
   },
   "outputs": [
    {
     "output_type": "display_data",
     "data": {
      "text/html": [
       "<style scoped>\n",
       "  .ansiout {\n",
       "    display: block;\n",
       "    unicode-bidi: embed;\n",
       "    white-space: pre-wrap;\n",
       "    word-wrap: break-word;\n",
       "    word-break: break-all;\n",
       "    font-family: \"Source Code Pro\", \"Menlo\", monospace;;\n",
       "    font-size: 13px;\n",
       "    color: #555;\n",
       "    margin-left: 4px;\n",
       "    line-height: 19px;\n",
       "  }\n",
       "</style>\n",
       "<div class=\"ansiout\"></div>"
      ]
     },
     "metadata": {
      "application/vnd.databricks.v1+output": {
       "addedWidgets": {},
       "arguments": {},
       "data": "<div class=\"ansiout\"></div>",
       "datasetInfos": [],
       "metadata": {},
       "removedWidgets": [],
       "type": "html"
      }
     },
     "output_type": "display_data"
    },
    {
     "output_type": "display_data",
     "data": {
      "text/html": [
       "<style scoped>\n",
       "  .ansiout {\n",
       "    display: block;\n",
       "    unicode-bidi: embed;\n",
       "    white-space: pre-wrap;\n",
       "    word-wrap: break-word;\n",
       "    word-break: break-all;\n",
       "    font-family: \"Source Code Pro\", \"Menlo\", monospace;;\n",
       "    font-size: 13px;\n",
       "    color: #555;\n",
       "    margin-left: 4px;\n",
       "    line-height: 19px;\n",
       "  }\n",
       "</style>\n",
       "<div class=\"ansiout\"><span class=\"ansi-red-fg\">---------------------------------------------------------------------------</span>\n",
       "<span class=\"ansi-red-fg\">ValueError</span>                                Traceback (most recent call last)\n",
       "<span class=\"ansi-green-fg\">&lt;command-2232309253259152&gt;</span> in <span class=\"ansi-cyan-fg\">&lt;module&gt;</span>\n",
       "<span class=\"ansi-green-intense-fg ansi-bold\">     12</span> <span class=\"ansi-red-fg\">#print(&#34;Transformers test tokenizer:\\n&#34;, tokenizer)</span>\n",
       "<span class=\"ansi-green-intense-fg ansi-bold\">     13</span> \n",
       "<span class=\"ansi-green-fg\">---&gt; 14</span><span class=\"ansi-red-fg\"> </span>tokenizer <span class=\"ansi-blue-fg\">=</span> T5Tokenizer<span class=\"ansi-blue-fg\">.</span>from_pretrained<span class=\"ansi-blue-fg\">(</span><span class=\"ansi-blue-fg\">&#34;t5-base&#34;</span><span class=\"ansi-blue-fg\">)</span>\n",
       "<span class=\"ansi-green-intense-fg ansi-bold\">     15</span> model <span class=\"ansi-blue-fg\">=</span> T5ForConditionalGeneration<span class=\"ansi-blue-fg\">.</span>from_pretrained<span class=\"ansi-blue-fg\">(</span><span class=\"ansi-blue-fg\">&#34;google/flan-t5-large&#34;</span><span class=\"ansi-blue-fg\">,</span> device_map<span class=\"ansi-blue-fg\">=</span><span class=\"ansi-blue-fg\">&#34;auto&#34;</span><span class=\"ansi-blue-fg\">)</span>\n",
       "<span class=\"ansi-green-intense-fg ansi-bold\">     16</span> \n",
       "\n",
       "<span class=\"ansi-green-fg\">/databricks/python/lib/python3.8/site-packages/transformers/tokenization_utils_base.py</span> in <span class=\"ansi-cyan-fg\">from_pretrained</span><span class=\"ansi-blue-fg\">(cls, pretrained_model_name_or_path, *init_inputs, **kwargs)</span>\n",
       "<span class=\"ansi-green-intense-fg ansi-bold\">   1653</span>             <span class=\"ansi-red-fg\"># Try to get the tokenizer config to see if there are versioned tokenizer files.</span>\n",
       "<span class=\"ansi-green-intense-fg ansi-bold\">   1654</span>             fast_tokenizer_file <span class=\"ansi-blue-fg\">=</span> FULL_TOKENIZER_FILE\n",
       "<span class=\"ansi-green-fg\">-&gt; 1655</span><span class=\"ansi-red-fg\">             resolved_config_file = get_file_from_repo(\n",
       "</span><span class=\"ansi-green-intense-fg ansi-bold\">   1656</span>                 pretrained_model_name_or_path<span class=\"ansi-blue-fg\">,</span>\n",
       "<span class=\"ansi-green-intense-fg ansi-bold\">   1657</span>                 TOKENIZER_CONFIG_FILE<span class=\"ansi-blue-fg\">,</span>\n",
       "\n",
       "<span class=\"ansi-green-fg\">/databricks/python/lib/python3.8/site-packages/transformers/file_utils.py</span> in <span class=\"ansi-cyan-fg\">get_file_from_repo</span><span class=\"ansi-blue-fg\">(path_or_repo, filename, cache_dir, force_download, resume_download, proxies, use_auth_token, revision, local_files_only)</span>\n",
       "<span class=\"ansi-green-intense-fg ansi-bold\">   2233</span>     <span class=\"ansi-green-fg\">try</span><span class=\"ansi-blue-fg\">:</span>\n",
       "<span class=\"ansi-green-intense-fg ansi-bold\">   2234</span>         <span class=\"ansi-red-fg\"># Load from URL or cache if already cached</span>\n",
       "<span class=\"ansi-green-fg\">-&gt; 2235</span><span class=\"ansi-red-fg\">         resolved_file = cached_path(\n",
       "</span><span class=\"ansi-green-intense-fg ansi-bold\">   2236</span>             resolved_file<span class=\"ansi-blue-fg\">,</span>\n",
       "<span class=\"ansi-green-intense-fg ansi-bold\">   2237</span>             cache_dir<span class=\"ansi-blue-fg\">=</span>cache_dir<span class=\"ansi-blue-fg\">,</span>\n",
       "\n",
       "<span class=\"ansi-green-fg\">/databricks/python/lib/python3.8/site-packages/transformers/file_utils.py</span> in <span class=\"ansi-cyan-fg\">cached_path</span><span class=\"ansi-blue-fg\">(url_or_filename, cache_dir, force_download, proxies, resume_download, user_agent, extract_compressed_file, force_extract, use_auth_token, local_files_only)</span>\n",
       "<span class=\"ansi-green-intense-fg ansi-bold\">   1844</span>     <span class=\"ansi-green-fg\">if</span> is_remote_url<span class=\"ansi-blue-fg\">(</span>url_or_filename<span class=\"ansi-blue-fg\">)</span><span class=\"ansi-blue-fg\">:</span>\n",
       "<span class=\"ansi-green-intense-fg ansi-bold\">   1845</span>         <span class=\"ansi-red-fg\"># URL, so get it from the cache (downloading if necessary)</span>\n",
       "<span class=\"ansi-green-fg\">-&gt; 1846</span><span class=\"ansi-red-fg\">         output_path = get_from_cache(\n",
       "</span><span class=\"ansi-green-intense-fg ansi-bold\">   1847</span>             url_or_filename<span class=\"ansi-blue-fg\">,</span>\n",
       "<span class=\"ansi-green-intense-fg ansi-bold\">   1848</span>             cache_dir<span class=\"ansi-blue-fg\">=</span>cache_dir<span class=\"ansi-blue-fg\">,</span>\n",
       "\n",
       "<span class=\"ansi-green-fg\">/databricks/python/lib/python3.8/site-packages/transformers/file_utils.py</span> in <span class=\"ansi-cyan-fg\">get_from_cache</span><span class=\"ansi-blue-fg\">(url, cache_dir, force_download, proxies, etag_timeout, resume_download, user_agent, use_auth_token, local_files_only)</span>\n",
       "<span class=\"ansi-green-intense-fg ansi-bold\">   2100</span>                     )\n",
       "<span class=\"ansi-green-intense-fg ansi-bold\">   2101</span>                 <span class=\"ansi-green-fg\">else</span><span class=\"ansi-blue-fg\">:</span>\n",
       "<span class=\"ansi-green-fg\">-&gt; 2102</span><span class=\"ansi-red-fg\">                     raise ValueError(\n",
       "</span><span class=\"ansi-green-intense-fg ansi-bold\">   2103</span>                         <span class=\"ansi-blue-fg\">&#34;Connection error, and we cannot find the requested files in the cached path.&#34;</span>\n",
       "<span class=\"ansi-green-intense-fg ansi-bold\">   2104</span>                         <span class=\"ansi-blue-fg\">&#34; Please try again or make sure your Internet connection is on.&#34;</span>\n",
       "\n",
       "<span class=\"ansi-red-fg\">ValueError</span>: Connection error, and we cannot find the requested files in the cached path. Please try again or make sure your Internet connection is on.</div>"
      ]
     },
     "metadata": {
      "application/vnd.databricks.v1+output": {
       "arguments": {},
       "data": "<div class=\"ansiout\"><span class=\"ansi-red-fg\">---------------------------------------------------------------------------</span>\n<span class=\"ansi-red-fg\">ValueError</span>                                Traceback (most recent call last)\n<span class=\"ansi-green-fg\">&lt;command-2232309253259152&gt;</span> in <span class=\"ansi-cyan-fg\">&lt;module&gt;</span>\n<span class=\"ansi-green-intense-fg ansi-bold\">     12</span> <span class=\"ansi-red-fg\">#print(&#34;Transformers test tokenizer:\\n&#34;, tokenizer)</span>\n<span class=\"ansi-green-intense-fg ansi-bold\">     13</span> \n<span class=\"ansi-green-fg\">---&gt; 14</span><span class=\"ansi-red-fg\"> </span>tokenizer <span class=\"ansi-blue-fg\">=</span> T5Tokenizer<span class=\"ansi-blue-fg\">.</span>from_pretrained<span class=\"ansi-blue-fg\">(</span><span class=\"ansi-blue-fg\">&#34;t5-base&#34;</span><span class=\"ansi-blue-fg\">)</span>\n<span class=\"ansi-green-intense-fg ansi-bold\">     15</span> model <span class=\"ansi-blue-fg\">=</span> T5ForConditionalGeneration<span class=\"ansi-blue-fg\">.</span>from_pretrained<span class=\"ansi-blue-fg\">(</span><span class=\"ansi-blue-fg\">&#34;google/flan-t5-large&#34;</span><span class=\"ansi-blue-fg\">,</span> device_map<span class=\"ansi-blue-fg\">=</span><span class=\"ansi-blue-fg\">&#34;auto&#34;</span><span class=\"ansi-blue-fg\">)</span>\n<span class=\"ansi-green-intense-fg ansi-bold\">     16</span> \n\n<span class=\"ansi-green-fg\">/databricks/python/lib/python3.8/site-packages/transformers/tokenization_utils_base.py</span> in <span class=\"ansi-cyan-fg\">from_pretrained</span><span class=\"ansi-blue-fg\">(cls, pretrained_model_name_or_path, *init_inputs, **kwargs)</span>\n<span class=\"ansi-green-intense-fg ansi-bold\">   1653</span>             <span class=\"ansi-red-fg\"># Try to get the tokenizer config to see if there are versioned tokenizer files.</span>\n<span class=\"ansi-green-intense-fg ansi-bold\">   1654</span>             fast_tokenizer_file <span class=\"ansi-blue-fg\">=</span> FULL_TOKENIZER_FILE\n<span class=\"ansi-green-fg\">-&gt; 1655</span><span class=\"ansi-red-fg\">             resolved_config_file = get_file_from_repo(\n</span><span class=\"ansi-green-intense-fg ansi-bold\">   1656</span>                 pretrained_model_name_or_path<span class=\"ansi-blue-fg\">,</span>\n<span class=\"ansi-green-intense-fg ansi-bold\">   1657</span>                 TOKENIZER_CONFIG_FILE<span class=\"ansi-blue-fg\">,</span>\n\n<span class=\"ansi-green-fg\">/databricks/python/lib/python3.8/site-packages/transformers/file_utils.py</span> in <span class=\"ansi-cyan-fg\">get_file_from_repo</span><span class=\"ansi-blue-fg\">(path_or_repo, filename, cache_dir, force_download, resume_download, proxies, use_auth_token, revision, local_files_only)</span>\n<span class=\"ansi-green-intense-fg ansi-bold\">   2233</span>     <span class=\"ansi-green-fg\">try</span><span class=\"ansi-blue-fg\">:</span>\n<span class=\"ansi-green-intense-fg ansi-bold\">   2234</span>         <span class=\"ansi-red-fg\"># Load from URL or cache if already cached</span>\n<span class=\"ansi-green-fg\">-&gt; 2235</span><span class=\"ansi-red-fg\">         resolved_file = cached_path(\n</span><span class=\"ansi-green-intense-fg ansi-bold\">   2236</span>             resolved_file<span class=\"ansi-blue-fg\">,</span>\n<span class=\"ansi-green-intense-fg ansi-bold\">   2237</span>             cache_dir<span class=\"ansi-blue-fg\">=</span>cache_dir<span class=\"ansi-blue-fg\">,</span>\n\n<span class=\"ansi-green-fg\">/databricks/python/lib/python3.8/site-packages/transformers/file_utils.py</span> in <span class=\"ansi-cyan-fg\">cached_path</span><span class=\"ansi-blue-fg\">(url_or_filename, cache_dir, force_download, proxies, resume_download, user_agent, extract_compressed_file, force_extract, use_auth_token, local_files_only)</span>\n<span class=\"ansi-green-intense-fg ansi-bold\">   1844</span>     <span class=\"ansi-green-fg\">if</span> is_remote_url<span class=\"ansi-blue-fg\">(</span>url_or_filename<span class=\"ansi-blue-fg\">)</span><span class=\"ansi-blue-fg\">:</span>\n<span class=\"ansi-green-intense-fg ansi-bold\">   1845</span>         <span class=\"ansi-red-fg\"># URL, so get it from the cache (downloading if necessary)</span>\n<span class=\"ansi-green-fg\">-&gt; 1846</span><span class=\"ansi-red-fg\">         output_path = get_from_cache(\n</span><span class=\"ansi-green-intense-fg ansi-bold\">   1847</span>             url_or_filename<span class=\"ansi-blue-fg\">,</span>\n<span class=\"ansi-green-intense-fg ansi-bold\">   1848</span>             cache_dir<span class=\"ansi-blue-fg\">=</span>cache_dir<span class=\"ansi-blue-fg\">,</span>\n\n<span class=\"ansi-green-fg\">/databricks/python/lib/python3.8/site-packages/transformers/file_utils.py</span> in <span class=\"ansi-cyan-fg\">get_from_cache</span><span class=\"ansi-blue-fg\">(url, cache_dir, force_download, proxies, etag_timeout, resume_download, user_agent, use_auth_token, local_files_only)</span>\n<span class=\"ansi-green-intense-fg ansi-bold\">   2100</span>                     )\n<span class=\"ansi-green-intense-fg ansi-bold\">   2101</span>                 <span class=\"ansi-green-fg\">else</span><span class=\"ansi-blue-fg\">:</span>\n<span class=\"ansi-green-fg\">-&gt; 2102</span><span class=\"ansi-red-fg\">                     raise ValueError(\n</span><span class=\"ansi-green-intense-fg ansi-bold\">   2103</span>                         <span class=\"ansi-blue-fg\">&#34;Connection error, and we cannot find the requested files in the cached path.&#34;</span>\n<span class=\"ansi-green-intense-fg ansi-bold\">   2104</span>                         <span class=\"ansi-blue-fg\">&#34; Please try again or make sure your Internet connection is on.&#34;</span>\n\n<span class=\"ansi-red-fg\">ValueError</span>: Connection error, and we cannot find the requested files in the cached path. Please try again or make sure your Internet connection is on.</div>",
       "errorSummary": "<span class=\"ansi-red-fg\">ValueError</span>: Connection error, and we cannot find the requested files in the cached path. Please try again or make sure your Internet connection is on.",
       "errorTraceType": "html",
       "metadata": {},
       "type": "ipynbError"
      }
     },
     "output_type": "display_data"
    }
   ],
   "source": [
    "import requests\n",
    "import uuid\n",
    "import json\n",
    "from azure.storage.blob import BlobServiceClient\n",
    "import torch\n",
    "import sentencepiece\n",
    "from transformers import T5Tokenizer, T5ForConditionalGeneration\n",
    "\n",
    "\n",
    "# Test Transformers\n",
    "#tokenizer = transformers.BertTokenizer.from_pretrained('google/bert-base-uncased')\n",
    "#print(\"Transformers test tokenizer:\\n\", tokenizer)\n",
    "\n",
    "tokenizer = T5Tokenizer.from_pretrained(\"t5-base\")\n",
    "model = T5ForConditionalGeneration.from_pretrained(\"google/flan-t5-large\", device_map=\"auto\")\n",
    "\n",
    "print(\"Model ready\")\n",
    "\n",
    "#storage_account_name = \"zihdssnbxpocblob0\"\n",
    "#blob_container_name = \"translation\"\n",
    "#input_document_name = \"DE-EN-alligned.txt\"\n",
    "#output_document_name = \"DE-EN-pred-groundtruth.txt\"\n",
    "\n",
    "# File paths and Blob Storage URLs\n",
    "input_blob_url = \"https://zihdssnbxpocblob0.blob.core.windows.net/nlp-tests/DE-EN-alligned.txt\"\n",
    "output_blob_url = \"https://zihdssnbxpocblob0.blob.core.windows.net/nlp-tests-outputs/DE-EN-pred-groundtruth.txt\"\n",
    "\n",
    "\n",
    "\n",
    "# Create a BlobServiceClient to interact with the Blob Storage\n",
    "blob_service_client = BlobServiceClient.from_connection_string(\"DefaultEndpointsProtocol=https;AccountName=zihdssnbxpocblob0;AccountKey=57NNKs6efrO4ub4yxjjXkRsVvXDbKlOfhOdnufMccGzNf7i2QGGUNhvDANo+Ma6rlCyBB5zyFebY+AStHe09nw==;EndpointSuffix=core.windows.net\")\n",
    "\n",
    "# Download input file from Azure Blob Storage\n",
    "input_container = input_blob_url.split('/')[3]\n",
    "input_blob_name = input_blob_url.split('/')[-1]\n",
    "input_container_client = blob_service_client.get_container_client(input_container)\n",
    "input_blob_client = input_container_client.get_blob_client(input_blob_name)\n",
    "\n",
    "# Translate and write to output file\n",
    "translated_lines = []\n",
    "\n",
    "#with input_blob_client.download_blob() as blob:\n",
    "#content = blob.readall().decode('utf-8')\n",
    "#lines = content.split('\\n')\n",
    "response = input_blob_client.download_blob()\n",
    "content = response.readall().decode('utf-8')\n",
    "lines = content.split('\\n')\n",
    "i=1\n",
    "for line in lines:\n",
    "    string_1, string_2 = line.strip().split('\\t')\n",
    "\n",
    "    # FLAN T5 TRANSLATION\n",
    "\n",
    "    input_text = \"translate German to English: \" + string_1\n",
    "    \n",
    "    input_ids = tokenizer(input_text, return_tensors=\"pt\").input_ids.to(\"cuda\")\n",
    "\n",
    "    outputs = model.generate(input_ids)\n",
    "    translated_string =tokenizer.decode(outputs[0])\n",
    "\n",
    "    # translated string is the string_1 translation\n",
    "        \n",
    "    translated_lines.append(translated_string + '\\t' + string_2)\n",
    "\n",
    "    print(\"Translation number\", i, \"\\n\", translated_string + ' -- ' + string_2)\n",
    "    i += 1\n",
    "\n",
    "# Upload the translated output to Azure Blob Storage\n",
    "output_container = output_blob_url.split('/')[3]\n",
    "output_blob_name = output_blob_url.split('/')[-1]\n",
    "output_container_client = blob_service_client.get_container_client(output_container)\n",
    "output_blob_client = output_container_client.get_blob_client(output_blob_name)\n",
    "output_blob_client.upload_blob('\\n'.join(translated_lines))\n",
    "\n",
    "print(\"Translation completed. Translated text saved to\", output_blob_url)"
   ]
  },
  {
   "cell_type": "code",
   "execution_count": 0,
   "metadata": {
    "application/vnd.databricks.v1+cell": {
     "cellMetadata": {
      "byteLimit": 2048000,
      "rowLimit": 10000
     },
     "inputWidgets": {},
     "nuid": "19b273b6-b7e7-4d4d-93b2-60ae0a414d54",
     "showTitle": false,
     "title": ""
    }
   },
   "outputs": [
    {
     "output_type": "display_data",
     "data": {
      "text/html": [
       "<style scoped>\n",
       "  .ansiout {\n",
       "    display: block;\n",
       "    unicode-bidi: embed;\n",
       "    white-space: pre-wrap;\n",
       "    word-wrap: break-word;\n",
       "    word-break: break-all;\n",
       "    font-family: \"Source Code Pro\", \"Menlo\", monospace;;\n",
       "    font-size: 13px;\n",
       "    color: #555;\n",
       "    margin-left: 4px;\n",
       "    line-height: 19px;\n",
       "  }\n",
       "</style>\n",
       "<div class=\"ansiout\">PyTorch version: 1.10.2+cpu\n",
       "Transformers version: 4.16.2\n",
       "</div>"
      ]
     },
     "metadata": {
      "application/vnd.databricks.v1+output": {
       "addedWidgets": {},
       "arguments": {},
       "data": "<div class=\"ansiout\">PyTorch version: 1.10.2+cpu\nTransformers version: 4.16.2\n</div>",
       "datasetInfos": [],
       "metadata": {},
       "removedWidgets": [],
       "type": "html"
      }
     },
     "output_type": "display_data"
    }
   ],
   "source": [
    "import torch\n",
    "import transformers\n",
    "\n",
    "print(\"PyTorch version:\", torch.__version__)\n",
    "print(\"Transformers version:\", transformers.__version__)"
   ]
  }
 ],
 "metadata": {
  "application/vnd.databricks.v1+notebook": {
   "dashboards": [],
   "language": "python",
   "notebookMetadata": {
    "pythonIndentUnit": 4
   },
   "notebookName": "T5",
   "widgets": {}
  }
 },
 "nbformat": 4,
 "nbformat_minor": 0
}
