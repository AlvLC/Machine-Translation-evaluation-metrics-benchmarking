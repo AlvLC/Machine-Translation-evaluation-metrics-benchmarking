{
 "cells": [
  {
   "attachments": {},
   "cell_type": "markdown",
   "metadata": {},
   "source": [
    "### Simple python script to postprocess ChatGPT translations and create a list of triplets dictionary"
   ]
  },
  {
   "cell_type": "code",
   "execution_count": 33,
   "metadata": {},
   "outputs": [],
   "source": [
    "with open(\"DE-EN-pred-groundtruth_gpt35turbo_full.txt\", \"r\", encoding='utf-8') as mt_ref_file, \\\n",
    "        open(\"DE-EN-alligned.txt\", \"r\", encoding='utf-8') as src_file:\n",
    "    mt_ref_lines = [line.rstrip(\"\\n\") for line in mt_ref_file.readlines()]\n",
    "    src_lines = [line.rstrip(\"\\n\") for line in src_file.readlines()]"
   ]
  },
  {
   "cell_type": "code",
   "execution_count": 36,
   "metadata": {},
   "outputs": [],
   "source": [
    "# Create a list of dictionaries\n",
    "data = []\n",
    "for mt_ref, src_line in zip(mt_ref_lines, src_lines):\n",
    "    stripped = mt_ref.strip()\n",
    "    if stripped != \"API_ERROR\" and '\\t' in stripped:   # Skip those lines with an API error\n",
    "        mt, ref = stripped.split(\"\\t\")\n",
    "        src, _ = src_line.strip().split(\"\\t\")  # Ignore extra content after reference string\n",
    "        data.append({\n",
    "            \"src\": src.strip(),\n",
    "            \"mt\": mt.strip(),\n",
    "            \"ref\": ref.strip()\n",
    "        })\n",
    "    else:\n",
    "        continue\n",
    "\n",
    "# Save the list of dictionaries to a file\n",
    "with open(\"gpt_dict.txt\", \"w\", encoding='utf-8') as output_file:\n",
    "    for entry in data:\n",
    "        output_file.write(str(entry) + \"\\n\")"
   ]
  },
  {
   "cell_type": "code",
   "execution_count": 45,
   "metadata": {},
   "outputs": [
    {
     "name": "stdout",
     "output_type": "stream",
     "text": [
      "{'src': 'über eine Initiative der Französischen Republik im Hinblick auf den Erlass eines Rahmenbeschlusses des Rates über Geldwäsche, die Ermittlung, das Einfrieren, die Beschlagnahme und die Einziehung von Tatwerkzeugen und Erträgen aus Straftaten', 'mt': 'About an initiative of the French Republic regarding the adoption of a Council Framework Decision on money laundering, the investigation, freezing, seizure and confiscation of instrumentalities and proceeds of crime.', 'ref': 'on the initiative of the French Republic with a view to adopting a Council Framework Decision on money laundering, the identification, tracing, freezing, seizing and confiscation of instrumentalities and the proceeds from crime'}\n"
     ]
    }
   ],
   "source": [
    "print(data[1])"
   ]
  },
  {
   "cell_type": "code",
   "execution_count": 42,
   "metadata": {},
   "outputs": [],
   "source": [
    "import ast\n",
    "data2 = []\n",
    "with open(\"gpt_dict.txt\", \"r\", encoding='utf-8') as file:\n",
    "    for line in file:\n",
    "        dictionary_str = line.strip()\n",
    "        entry = ast.literal_eval(dictionary_str)\n",
    "        data2.append(entry)"
   ]
  },
  {
   "cell_type": "code",
   "execution_count": 46,
   "metadata": {},
   "outputs": [
    {
     "name": "stdout",
     "output_type": "stream",
     "text": [
      "{'src': 'über eine Initiative der Französischen Republik im Hinblick auf den Erlass eines Rahmenbeschlusses des Rates über Geldwäsche, die Ermittlung, das Einfrieren, die Beschlagnahme und die Einziehung von Tatwerkzeugen und Erträgen aus Straftaten', 'mt': 'About an initiative of the French Republic regarding the adoption of a Council Framework Decision on money laundering, the investigation, freezing, seizure and confiscation of instrumentalities and proceeds of crime.', 'ref': 'on the initiative of the French Republic with a view to adopting a Council Framework Decision on money laundering, the identification, tracing, freezing, seizing and confiscation of instrumentalities and the proceeds from crime'}\n"
     ]
    }
   ],
   "source": [
    "print(data2[1])"
   ]
  }
 ],
 "metadata": {
  "kernelspec": {
   "display_name": ".venv",
   "language": "python",
   "name": "python3"
  },
  "language_info": {
   "codemirror_mode": {
    "name": "ipython",
    "version": 3
   },
   "file_extension": ".py",
   "mimetype": "text/x-python",
   "name": "python",
   "nbconvert_exporter": "python",
   "pygments_lexer": "ipython3",
   "version": "3.11.3"
  },
  "orig_nbformat": 4
 },
 "nbformat": 4,
 "nbformat_minor": 2
}
