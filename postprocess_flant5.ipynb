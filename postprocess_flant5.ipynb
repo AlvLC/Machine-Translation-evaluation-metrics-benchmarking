{
 "cells": [
  {
   "attachments": {},
   "cell_type": "markdown",
   "metadata": {},
   "source": [
    "### Simple python script to postprocess FLAN-T5 translations and create a list of triplets dictionary"
   ]
  },
  {
   "cell_type": "code",
   "execution_count": 1,
   "metadata": {},
   "outputs": [],
   "source": [
    "with open(\"DE-EN-alligned.txt\", \"r\", encoding='utf-8') as src_file, \\                      \n",
    "        open(\"DE-EN-pred-groundtruth_FLANT5_1.txt\", \"r\", encoding='utf-8') as mt_ref_file_1, \\\n",
    "        open(\"DE-EN-pred-groundtruth_FLANT5_66154.txt\", \"r\", encoding='utf-8') as mt_ref_file_2, \\\n",
    "        open(\"DE-EN-pred-groundtruth_FLANT5_77505.txt\", \"r\", encoding='utf-8') as mt_ref_file_3:     # As we can see, the mt_ref pairs were stored in different txt files with the same format <mt \\t ref>\n",
    "    mt_ref_lines_1 = [line.rstrip(\"\\n\") for line in mt_ref_file_1.readlines()]\n",
    "    mt_ref_lines_2 = [line.rstrip(\"\\n\") for line in mt_ref_file_2.readlines()]\n",
    "    mt_ref_lines_3 = [line.rstrip(\"\\n\") for line in mt_ref_file_3.readlines()]\n",
    "    mt_ref_lines = mt_ref_lines_1.copy()  # Create a copy of mt_ref_lines_1 to preserve its contents\n",
    "    mt_ref_lines.extend(mt_ref_lines_2)\n",
    "    mt_ref_lines.extend(mt_ref_lines_3)\n",
    "    src_lines = [line.rstrip(\"\\n\") for line in src_file.readlines()]"
   ]
  },
  {
   "cell_type": "code",
   "execution_count": 2,
   "metadata": {},
   "outputs": [
    {
     "name": "stdout",
     "output_type": "stream",
     "text": [
      "77506\n",
      "['<pad> 25. Oktober 2000 ENDGÜLTIG A5-0313/2000 *</s>\\t25 October 2000 FINAL A5-0313/2000 *', '<pad> about an initiative by the French Republic in the light of the establishment of a framework decision of the Council on the issue of money laundering, evasion, extortion, evasion and the increase in the number of weapons and contracts of war</s>\\ton the initiative of the French Republic with a view to adopting a Council Framework Decision on money laundering, the identification, tracing, freezing, seizing and confiscation of instrumentalities and the proceeds from crime', \"<pad> Committee on the Freedoms and Rights of the People, Justice and Inner Affairs</s>\\tCommittee on Citizens' Freedoms and Rights, Justice and Home Affairs\", '<pad> Luis Marinho</s>\\tLuis Marinho', '<pad> PE 294.241</s>\\tPE 294.241/fin.', '<pad> Erklärung of the used symbols</s>\\tSymbols for procedures', '<pad> * Consultation Procedures</s>\\t* Consultation procedure', '<pad> The majority of the voted</s>\\tmajority of the votes cast', '<pad> **I Procedures of cooperation (first reading)</s>\\t**I Cooperation procedure (first reading)', '<pad> The majority of the voted</s>\\tmajority of the votes cast']\n"
     ]
    }
   ],
   "source": [
    "print(len(mt_ref_lines))\n",
    "print(mt_ref_lines[:10])"
   ]
  },
  {
   "cell_type": "code",
   "execution_count": 13,
   "metadata": {},
   "outputs": [],
   "source": [
    "def filter_repeated_lines(lines, threshold=30):\n",
    "    '''\n",
    "    Filters the bugs/hallucinations T5 experiments\n",
    "    '''\n",
    "    filtered_lines = []\n",
    "    for line in lines:\n",
    "        word_count = {}\n",
    "        words = line.split()\n",
    "        for word in words:\n",
    "            word_count[word] = word_count.get(word, 0) + 1\n",
    "        if not any(count > threshold for count in word_count.values()):\n",
    "            filtered_lines.append(line)\n",
    "        else:\n",
    "            filtered_lines.append('skip this')\n",
    "    return filtered_lines\n",
    "\n",
    "def remove_substrings(string):\n",
    "    '''\n",
    "    Postprocessing of translated sentences\n",
    "    '''\n",
    "    string = string.replace(\"</s>\", \"\")\n",
    "    string = string.replace(\"<pad>\", \"\")\n",
    "    return string"
   ]
  },
  {
   "cell_type": "code",
   "execution_count": 14,
   "metadata": {},
   "outputs": [],
   "source": [
    "# Create a list of dictionaries\n",
    "data = []\n",
    "filtered_mt_ref = filter_repeated_lines(mt_ref_lines)\n",
    "for mt_ref, src_line in zip(filtered_mt_ref, src_lines):\n",
    "    stripped = mt_ref.strip()\n",
    "    if stripped != \"skip this\" and '\\t' in stripped:\n",
    "        mt_pre, ref = stripped.split(\"\\t\")\n",
    "        mt = remove_substrings(mt_pre)\n",
    "        src, _ = src_line.strip().split(\"\\t\")  # Ignore extra content after reference string\n",
    "        data.append({\n",
    "            \"src\": src.strip(),\n",
    "            \"mt\": mt.strip(),\n",
    "            \"ref\": ref.strip()\n",
    "        })\n",
    "    else:\n",
    "        continue"
   ]
  },
  {
   "cell_type": "code",
   "execution_count": 16,
   "metadata": {},
   "outputs": [
    {
     "name": "stdout",
     "output_type": "stream",
     "text": [
      "76450\n",
      "[{'src': '25. Oktober 2000 ENDGÜLTIG A5-0313/2000 *', 'mt': '25. Oktober 2000 ENDGÜLTIG A5-0313/2000 *', 'ref': '25 October 2000 FINAL A5-0313/2000 *'}, {'src': 'über eine Initiative der Französischen Republik im Hinblick auf den Erlass eines Rahmenbeschlusses des Rates über Geldwäsche, die Ermittlung, das Einfrieren, die Beschlagnahme und die Einziehung von Tatwerkzeugen und Erträgen aus Straftaten', 'mt': 'about an initiative by the French Republic in the light of the establishment of a framework decision of the Council on the issue of money laundering, evasion, extortion, evasion and the increase in the number of weapons and contracts of war', 'ref': 'on the initiative of the French Republic with a view to adopting a Council Framework Decision on money laundering, the identification, tracing, freezing, seizing and confiscation of instrumentalities and the proceeds from crime'}, {'src': 'Ausschuss für die Freiheiten und Rechte der Bürger, Justiz und innere Angelegenheiten', 'mt': 'Committee on the Freedoms and Rights of the People, Justice and Inner Affairs', 'ref': \"Committee on Citizens' Freedoms and Rights, Justice and Home Affairs\"}, {'src': 'Luis Marinho', 'mt': 'Luis Marinho', 'ref': 'Luis Marinho'}, {'src': 'PE 294.241', 'mt': 'PE 294.241', 'ref': 'PE 294.241/fin.'}, {'src': 'Erklärung der benutzten Zeichen', 'mt': 'Erklärung of the used symbols', 'ref': 'Symbols for procedures'}, {'src': '* Verfahren der Konsultation', 'mt': '* Consultation Procedures', 'ref': '* Consultation procedure'}, {'src': 'Mehrheit der abgegebenen Stimmen', 'mt': 'The majority of the voted', 'ref': 'majority of the votes cast'}, {'src': '**I Verfahren der Zusammenarbeit (erste Lesung)', 'mt': '**I Procedures of cooperation (first reading)', 'ref': '**I Cooperation procedure (first reading)'}, {'src': 'Mehrheit der abgegebenen Stimmen', 'mt': 'The majority of the voted', 'ref': 'majority of the votes cast'}]\n"
     ]
    }
   ],
   "source": [
    "print(len(data))\n",
    "print(data[:10])"
   ]
  },
  {
   "cell_type": "code",
   "execution_count": null,
   "metadata": {},
   "outputs": [],
   "source": [
    "# Save the list of dictionaries to a file\n",
    "with open(\"flant5_dict.txt\", \"w\", encoding='utf-8') as output_file:\n",
    "    for entry in data:\n",
    "        output_file.write(str(entry) + \"\\n\")"
   ]
  }
 ],
 "metadata": {
  "kernelspec": {
   "display_name": ".venv",
   "language": "python",
   "name": "python3"
  },
  "language_info": {
   "codemirror_mode": {
    "name": "ipython",
    "version": 3
   },
   "file_extension": ".py",
   "mimetype": "text/x-python",
   "name": "python",
   "nbconvert_exporter": "python",
   "pygments_lexer": "ipython3",
   "version": "3.11.3"
  },
  "orig_nbformat": 4
 },
 "nbformat": 4,
 "nbformat_minor": 2
}
