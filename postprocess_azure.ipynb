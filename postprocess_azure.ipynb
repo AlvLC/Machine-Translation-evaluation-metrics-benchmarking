{
 "cells": [
  {
   "attachments": {},
   "cell_type": "markdown",
   "metadata": {},
   "source": [
    "### Simple python script to postprocess Azure CST translations and create a list of triplets dictionary"
   ]
  },
  {
   "cell_type": "code",
   "execution_count": 1,
   "metadata": {},
   "outputs": [],
   "source": [
    "with open(\"DE-EN-pred-groundtruth_azure.txt\", \"r\", encoding='utf-8') as mt_ref_file, \\\n",
    "        open(\"DE-EN-alligned.txt\", \"r\", encoding='utf-8') as src_file:\n",
    "    mt_ref_lines = [line.rstrip(\"\\n\") for line in mt_ref_file.readlines()]\n",
    "    src_lines = [line.rstrip(\"\\n\") for line in src_file.readlines()]"
   ]
  },
  {
   "cell_type": "code",
   "execution_count": 11,
   "metadata": {},
   "outputs": [
    {
     "data": {
      "text/plain": [
       "'The deadline for tabling amendments shall be set out in the draft agenda for the part-session at which the report will be examined.\\tThe deadline for tabling amendments will be indicated in the draft agenda for the relevant part-session.'"
      ]
     },
     "execution_count": 11,
     "metadata": {},
     "output_type": "execute_result"
    }
   ],
   "source": [
    "mt_ref_lines[29]"
   ]
  },
  {
   "cell_type": "code",
   "execution_count": 9,
   "metadata": {},
   "outputs": [],
   "source": [
    "# Create a list of dictionaries\n",
    "data = []\n",
    "for mt_ref, src_line in zip(mt_ref_lines, src_lines):\n",
    "    stripped = mt_ref.strip()\n",
    "    if '\\t' in stripped:\n",
    "        mt, ref = stripped.split(\"\\t\")         # This is the format of the lines stored in both txt\n",
    "        src, _ = src_line.strip().split(\"\\t\")  # Ignore extra content after reference string\n",
    "        data.append({\n",
    "            \"src\": src.strip(),\n",
    "            \"mt\": mt.strip(),\n",
    "            \"ref\": ref.strip()\n",
    "        })\n",
    "    else:\n",
    "        continue"
   ]
  },
  {
   "cell_type": "code",
   "execution_count": 12,
   "metadata": {},
   "outputs": [
    {
     "name": "stdout",
     "output_type": "stream",
     "text": [
      "{'src': 'Die Frist für die Einreichung von Änderungsanträgen wird im Entwurf der Tagesordnung für die Tagung angegeben, auf der der Bericht geprüft wird.', 'mt': 'The deadline for tabling amendments shall be set out in the draft agenda for the part-session at which the report will be examined.', 'ref': 'The deadline for tabling amendments will be indicated in the draft agenda for the relevant part-session.'}\n"
     ]
    }
   ],
   "source": [
    "print(data[29])"
   ]
  },
  {
   "cell_type": "code",
   "execution_count": 16,
   "metadata": {},
   "outputs": [],
   "source": [
    "# Save the list of dictionaries to a file\n",
    "with open(\"azure_dict.txt\", \"w\", encoding='utf-8') as output_file:\n",
    "    for entry in data[:100000]:\n",
    "        output_file.write(str(entry) + \"\\n\")"
   ]
  }
 ],
 "metadata": {
  "kernelspec": {
   "display_name": ".venv",
   "language": "python",
   "name": "python3"
  },
  "language_info": {
   "codemirror_mode": {
    "name": "ipython",
    "version": 3
   },
   "file_extension": ".py",
   "mimetype": "text/x-python",
   "name": "python",
   "nbconvert_exporter": "python",
   "pygments_lexer": "ipython3",
   "version": "3.11.3"
  },
  "orig_nbformat": 4
 },
 "nbformat": 4,
 "nbformat_minor": 2
}
